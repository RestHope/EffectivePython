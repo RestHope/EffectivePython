{
 "cells": [
  {
   "cell_type": "markdown",
   "metadata": {},
   "source": [
    "### BW37 - 내장 타입을 여러 단계로 내포시키보다는 클래스를 합성하자"
   ]
  },
  {
   "cell_type": "code",
   "execution_count": 1,
   "metadata": {},
   "outputs": [],
   "source": [
    "class SimpleGradebook:\n",
    "    def __init__(self):\n",
    "        self._grades = {}\n",
    "\n",
    "    def add_student(self, name):\n",
    "        self._grades[name] = []\n",
    "\n",
    "    def report_grade(self, name, score):\n",
    "        self._grades[name].append(score)\n",
    "\n",
    "    def average_grade(self, name):\n",
    "        grades = self._grades[name]\n",
    "        return sum(grades) / len(grades)"
   ]
  },
  {
   "cell_type": "markdown",
   "metadata": {},
   "source": [
    "- 파이썬 내장 딕셔너리 타입을 사용하면 객체의 생명 주기 동안 동적인 내부 상태를 잘 유지\n",
    "<br/> **동적?** 어떤값이 들어 올지 미리 알수 없는 식별자들을 유지"
   ]
  },
  {
   "cell_type": "code",
   "execution_count": 2,
   "metadata": {},
   "outputs": [
    {
     "name": "stdout",
     "output_type": "stream",
     "text": [
      "90.0\n"
     ]
    }
   ],
   "source": [
    "book = SimpleGradebook()\n",
    "book.add_student('아이작 뉴턴')\n",
    "book.report_grade('아이작 뉴턴', 90)\n",
    "book.report_grade('아이작 뉴턴', 95)\n",
    "book.report_grade('아이작 뉴턴', 85)\n",
    "\n",
    "print(book.average_grade('아이작 뉴턴'))"
   ]
  },
  {
   "cell_type": "markdown",
   "metadata": {},
   "source": [
    "<hr/>"
   ]
  },
  {
   "cell_type": "markdown",
   "metadata": {},
   "source": [
    "Ex. 클래스를 확장해서 전체가 아닌 과목별 성적을 리스트로 저장하고 싶다면"
   ]
  },
  {
   "cell_type": "code",
   "execution_count": 6,
   "metadata": {},
   "outputs": [],
   "source": [
    "from collections import defaultdict\n",
    "\n",
    "class BySubjectGradebook:\n",
    "    def __init__(self):\n",
    "        self._grades = {}  # 외부 dict\n",
    "\n",
    "    def add_student(self, name):\n",
    "        self._grades[name] = defaultdict(list)  # 내부 dict\n",
    "\n",
    "    def report_grade(self, name, subject, grade):\n",
    "        by_subject = self._grades[name]\n",
    "        grade_list = by_subject[subject]\n",
    "        grade_list.append(grade)\n",
    "\n",
    "    def average_grade(self, name):\n",
    "        by_subject = self._grades[name]\n",
    "        total, count = 0, 0\n",
    "        for grades in by_subject.values():\n",
    "            total += sum(grades)\n",
    "            count += len(grades)\n",
    "        return total / count"
   ]
  },
  {
   "cell_type": "markdown",
   "metadata": {},
   "source": [
    "Q.사용하기 쉬운데 왜 과하게 확장하면 깨지기 쉬운 코드를 작성할 위험성이 있는걸까?\n",
    "- 내부상태에 원소가 없기에 defaultdict를 사용 원소(과목이 없는 경우)를 처리"
   ]
  },
  {
   "cell_type": "code",
   "execution_count": 7,
   "metadata": {},
   "outputs": [
    {
     "name": "stdout",
     "output_type": "stream",
     "text": [
      "81.25\n"
     ]
    }
   ],
   "source": [
    "book = BySubjectGradebook()\n",
    "book.add_student('알버트 아인슈타인')\n",
    "book.report_grade('알버트 아인슈타인', '수학', 75)\n",
    "book.report_grade('알버트 아인슈타인', '수학', 65)\n",
    "book.report_grade('알버트 아인슈타인', '체육', 90)\n",
    "book.report_grade('알버트 아인슈타인', '체육', 95)\n",
    "print(book.average_grade('알버트 아인슈타인'))"
   ]
  },
  {
   "cell_type": "markdown",
   "metadata": {},
   "source": [
    "- 아직은  쓸만하다. <br/> Q. 다단계 딕셔너리를 처리가 무슨말?"
   ]
  },
  {
   "cell_type": "markdown",
   "metadata": {},
   "source": [
    "<hr/>"
   ]
  },
  {
   "cell_type": "markdown",
   "metadata": {},
   "source": [
    "Ex. 이제 요구사항이 바뀐다. 기말고사가 다른 쪽지 시험보다 성적에 더큰 영향(가중치)\n",
    "<br/> 리스트를 튜플의 리스트로 매핑하도록 변경하는 것"
   ]
  },
  {
   "cell_type": "code",
   "execution_count": null,
   "metadata": {},
   "outputs": [],
   "source": [
    "class WeightedGradebook:\n",
    "    def __init__(self):\n",
    "        self._grades = {}\n",
    "\n",
    "    def add_student(self, name):\n",
    "        self._grades[name] = defaultdict(list)\n",
    "\n",
    "    def report_grade(self, name, subject, score, weight):\n",
    "        by_subject = self._grades[name]\n",
    "        grade_list = by_subject[subject]\n",
    "        grade_list.append((score, weight))"
   ]
  },
  {
   "cell_type": "markdown",
   "metadata": {},
   "source": [
    "- report_grade는 성적 리스트가 튜플 인스턴스를 저장하게 했을 뿐 단순하게 변경 되었다.\n",
    "<br/> average_grade 메서드는 이중루프가 쓰이면서 읽기 어려워 졌다."
   ]
  },
  {
   "cell_type": "code",
   "execution_count": 15,
   "metadata": {},
   "outputs": [],
   "source": [
    "    def average_grade(self, name):\n",
    "        by_subject = self._grades[name]\n",
    "        score_sum, score_count = 0, 0\n",
    "\n",
    "        for subject, scores in by_subject.items():\n",
    "            subject_avg, total_weight = 0, 0\n",
    "\n",
    "            for score, weight in scores:\n",
    "                subject_avg += score * weight\n",
    "                total_weight += weight\n",
    "\n",
    "            score_sum += subject_avg / total_weight\n",
    "            score_count += 1\n",
    "\n",
    "        return score_sum / score_count"
   ]
  },
  {
   "cell_type": "code",
   "execution_count": 9,
   "metadata": {},
   "outputs": [
    {
     "name": "stdout",
     "output_type": "stream",
     "text": [
      "80.25\n"
     ]
    }
   ],
   "source": [
    "book = WeightedGradebook()\n",
    "book.add_student('알버트 아인슈타인')\n",
    "book.report_grade('알버트 아인슈타인', '수학', 75, 0.05)\n",
    "book.report_grade('알버트 아인슈타인', '수학', 65, 0.15)\n",
    "book.report_grade('알버트 아인슈타인', '수학', 70, 0.80)\n",
    "book.report_grade('알버트 아인슈타인', '체육', 100, 0.40)\n",
    "book.report_grade('알버트 아인슈타인', '체육', 85, 0.60)\n",
    "print(book.average_grade('알버트 아인슈타인'))"
   ]
  },
  {
   "cell_type": "markdown",
   "metadata": {},
   "source": [
    "- 클래스도 쓰기 어려워짐, 위치로 인자를 지정하면 값이 어떤 뜻을 가지는지 이해하기 어렵다.\n",
    "- 그래서 이렇게 복잡하면 내장 타입(딕셔,튜플,집합,리스트)이 아닌\n",
    "<br/> 클래스 계층 구조를 사용하자."
   ]
  },
  {
   "cell_type": "markdown",
   "metadata": {},
   "source": [
    "- 처음에 가중치가 부여된 성적을 지원해야 한다는 첫 번째 요구 사항을 몰랐다. <br/> → 새로운 클래스를 만들어 내는 번거로움을 감수할 이유가 없었다.\n",
    "- 파이썬 내장 타입은 사용하기 편하므로 계층을 추가 해가면서 사용하기 쉽다. <br/> → 내포 단계가 2단계 이상되면 사용하지 말아야 한다."
   ]
  },
  {
   "cell_type": "markdown",
   "metadata": {},
   "source": [
    "- 코드가 점점 복잡해지고 있음을 알게되었으면 즉시 해당기능을 클래스로 분리 해야한다."
   ]
  },
  {
   "cell_type": "markdown",
   "metadata": {},
   "source": [
    "<hr/>"
   ]
  },
  {
   "cell_type": "markdown",
   "metadata": {},
   "source": [
    "#### 클래스를 활용해 리팩터링하기\n",
    "> 리팩터링 ?\n",
    "- 외부 동작을 바꾸지 않으면서 내부 구조를 개선하는 방법입니다.\n",
    "<br/> 겉으로 보이는 동작의 변화 없이 소프트웨어 구조를 바꾸다."
   ]
  },
  {
   "cell_type": "markdown",
   "metadata": {},
   "source": [
    "Ex. 리스트 안에 점수를 저장하기 위해 튜플을 사용한 예제"
   ]
  },
  {
   "cell_type": "code",
   "execution_count": 17,
   "metadata": {},
   "outputs": [],
   "source": [
    "grades = []\n",
    "grades.append((95, 0.45))\n",
    "grades.append((85, 0.55))\n",
    "total = sum(score * weight for score, weight in grades)\n",
    "total_weight = sum(weight for _, weight in grades)\n",
    "average_grade = total / total_weight"
   ]
  },
  {
   "cell_type": "markdown",
   "metadata": {},
   "source": [
    "- total_weight를 계산할 때 '_'를 사용해 각 점수 튜플의 첫 번째 원소를 무시\n",
    "<br/> Ex. 선생님이 메모를 추가해야 하는 경우"
   ]
  },
  {
   "cell_type": "code",
   "execution_count": 18,
   "metadata": {},
   "outputs": [],
   "source": [
    "grades = []\n",
    "grades.append((95, 0.45, '참 잘했어요'))\n",
    "grades.append((85, 0.55, '조금 만 더 열심히'))\n",
    "total = sum(score * weight for score, weight, _ in grades)\n",
    "total_weight = sum(weight for _, weight, _ in grades)\n",
    "average_grade = total / total_weight"
   ]
  },
  {
   "cell_type": "markdown",
   "metadata": {},
   "source": [
    "- 원소가 늘어나면 다른 인덱스를 무시하기 위해 '_' 를 더 많이 써야한다.\n",
    "<br/> → 기존의 튜플에서 처리 해야할 튜플이 3개에서 그이상으로 늘어기 때문에 <br/> 결론적으로 딕셔너리를 여러 단계로 내포시키는 경우와 유사하다고 볼수있다."
   ]
  },
  {
   "cell_type": "markdown",
   "metadata": {},
   "source": [
    "<hr/>"
   ]
  },
  {
   "cell_type": "markdown",
   "metadata": {},
   "source": [
    "- collection 내장 모듈에 있는 namedtuple 타입이 이런 경우에 딱 들어 맞는다.\n",
    "\n",
    "> namedtuple ? \n",
    "- 튜플의 성질은 가졌지만 항목에 이름으로 접근이 가능한 튜플\n",
    "\n",
    "→ 작은 불변 데이터 클래스를 쉽게 정의할 수 있다."
   ]
  },
  {
   "cell_type": "code",
   "execution_count": null,
   "metadata": {},
   "outputs": [],
   "source": [
    "from collections import namedtuple\n",
    "Grade = namedtuple('Grade', ('score', 'weight'))"
   ]
  },
  {
   "cell_type": "markdown",
   "metadata": {},
   "source": [
    "- 클래스의 인스턴스를 만들 때는 위치 기반 인자를 사용해도 되고 키워드 인자를 사용해도 된다.\n",
    "<br/> Q. 왜 둘다 사용해도 되는건지?\n",
    "- 필드에 접근할 때는 애트리뷰트 이름을 쓸 수 있다.\n",
    "<br/> → 요구 사항이 바뀌는 경우에 namedtuple을 클래스로 변경하기가 쉽다."
   ]
  },
  {
   "cell_type": "markdown",
   "metadata": {},
   "source": [
    "#### namedtuple 한계\n",
    "- namedtuple 클래스에는 디폴트 인자 값을 지정할 수 없다\n",
    "<br/> → 프로퍼티가 4~5개 보다 더 많아지면 dataclasses 내장 모듈을 사용하는 편이 낫다.\n",
    "- 사용하는 모든 부분을 제어할 수 있는 상황이 아니라면 명시적으로 새로운 클래스를 정의하는 편이 더 낫다.\n",
    "<br/> → 인스턴스의 애트리뷰트 값을 숫자 인덱스를 사용해 접근할 수 있고 이터레이션도 가능하다."
   ]
  },
  {
   "cell_type": "markdown",
   "metadata": {},
   "source": [
    "Ex. 일련의 점수를 포함하는 단일 과목을 표현하는 클래스"
   ]
  },
  {
   "cell_type": "code",
   "execution_count": 19,
   "metadata": {},
   "outputs": [],
   "source": [
    "\n",
    "\n",
    "class Subject:\n",
    "    def __init__(self):\n",
    "        self._grades = []\n",
    "\n",
    "    def report_grade(self, score, weight):\n",
    "        self._grades.append(Grade(score, weight))\n",
    "\n",
    "    def average_grade(self):\n",
    "        total, total_weight = 0, 0\n",
    "        for grade in self._grades:\n",
    "            total += grade.score * grade.weight\n",
    "            total_weight += grade.weight\n",
    "        return total / total_weight\n",
    "\n",
    "\n",
    "class Student: # 다음으로 한 학생이 수강하는 과목들을 표현하는 클래스\n",
    "    def __init__(self):\n",
    "        self._subjects = defaultdict(Subject)\n",
    "\n",
    "    def get_subject(self, name):\n",
    "        return self._subjects[name]\n",
    "\n",
    "    def average_grade(self):\n",
    "        total, count = 0, 0\n",
    "        for subject in self._subjects.values():\n",
    "            total += subject.average_grade()\n",
    "            count += 1\n",
    "        return total / count # 모든 학생을 저장하는 컨테이너를 만들 수 있다.\n",
    "\n",
    "\n",
    "class Gradebook:\n",
    "    def __init__(self):\n",
    "        self._students = defaultdict(Student) # 이름을 사용해서 동적으로 학생을 지정\n",
    "\n",
    "    def get_student(self, name):\n",
    "        return self._students[name]"
   ]
  },
  {
   "cell_type": "code",
   "execution_count": 13,
   "metadata": {},
   "outputs": [
    {
     "name": "stdout",
     "output_type": "stream",
     "text": [
      "80.25\n"
     ]
    }
   ],
   "source": [
    "book = Gradebook()\n",
    "albert = book.get_student('알버트 아인슈타인')\n",
    "math = albert.get_subject('수학')\n",
    "math.report_grade(75, 0.05)\n",
    "math.report_grade(65, 0.15)\n",
    "math.report_grade(70, 0.80)\n",
    "gym = albert.get_subject('체육')\n",
    "gym.report_grade(100, 0.40)\n",
    "gym.report_grade(85, 0.60)\n",
    "print(albert.average_grade())"
   ]
  },
  {
   "cell_type": "markdown",
   "metadata": {},
   "source": [
    "- 코드 줄수는 두 배 이상이지만, 코드를 읽기 쉽고, 확장성이 좋아졌다.\n",
    "- 하휘 호환성을 제공하는 메서드를 작성 \n",
    "<br/> → 예전 스타일의 API를 사용중인 코드를 뉴 코드로 쉽게 마이그레이션이 가능하다."
   ]
  },
  {
   "cell_type": "markdown",
   "metadata": {},
   "source": [
    "### 기억하자\n",
    "- 딕셔너리, 긴 튜플, 다른 내장 타입이 복잡하게 내포된 데이터를 값으로 사용하는 딕셔너리를 만들지 말자.\n",
    "- 완전한 클래스가 제공하는 유연성이 필요하지 않고 가벼운 불변 데이터 컨테이너가 필요한다면 namedtuple을 사용.\n",
    "- 내부 상태를 표현하는 딕셔너리가 복잡해지면 이 데이터를 관리하는 코드를 여러 클래스로 나눠서 재작성하라."
   ]
  }
 ],
 "metadata": {
  "kernelspec": {
   "display_name": "Python 3",
   "language": "python",
   "name": "python3"
  },
  "language_info": {
   "codemirror_mode": {
    "name": "ipython",
    "version": 3
   },
   "file_extension": ".py",
   "mimetype": "text/x-python",
   "name": "python",
   "nbconvert_exporter": "python",
   "pygments_lexer": "ipython3",
   "version": "3.8.3"
  }
 },
 "nbformat": 4,
 "nbformat_minor": 4
}
