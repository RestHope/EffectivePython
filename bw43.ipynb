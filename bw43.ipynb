{
 "cells": [
  {
   "cell_type": "markdown",
   "metadata": {},
   "source": [
    "### BW43 - 커스텀 컨테이너 타입은 collections.abc를 상속하자."
   ]
  },
  {
   "cell_type": "markdown",
   "metadata": {},
   "source": [
    "- 파이썬 프로그래밍의 핵심은 데이터를 담은 클래스를 정의하고 이 객체들이 연계되는 방법을 명시하는 일이다. <br/> 모든 파이썬 클래스는 일종의 컨테이너고 속성과 기능을 함께 캡슐화한다. <br/><br/>\n",
    "- 시퀀스처럼 사용법이 간단한 클래스를 정의할 때는 <br/> 파이썬 내장 리스트 타입의 하위 클래스를 만들고 싶은것이 당연합니다. <br/> Q. 왜 당연할까요? 에? <br/> A. 속성들을 이용할수 있어서이다."
   ]
  },
  {
   "cell_type": "markdown",
   "metadata": {},
   "source": [
    "Ex. 멤버의 빈도를 계산하는 메서드를 추가로 갖춘 커스텀 list 타입을 생성\n",
    "<br/> A. 리스의 하위 클래스를 만들어준다. 단순히 추가 목저이니까.."
   ]
  },
  {
   "cell_type": "code",
   "execution_count": 5,
   "metadata": {},
   "outputs": [
    {
     "name": "stdout",
     "output_type": "stream",
     "text": [
      "길이:  7\n",
      "pop한 다음: ['a', 'b', 'a', 'c', 'b', 'a']\n",
      "빈도: {'a': 3, 'b': 2, 'c': 1}\n"
     ]
    }
   ],
   "source": [
    "class FrequencyList(list):         # 리스트를 상속밭아 리스트 본연의 기능을 수행됨.\n",
    "    def __init__(self, members):   # 빈도를 세는 프리퀀시라는 메서드가 추가됨.\n",
    "        super().__init__(members)\n",
    "                                    \n",
    "    def frequency(self):           # 리스트에서 상속받아 서브클래스를 만들어줌.\n",
    "        counts = {}\n",
    "        for item in self:\n",
    "            counts[item] = counts.get(item, 0) + 1\n",
    "        return counts\n",
    "\n",
    "foo = FrequencyList(['a', 'b', 'a', 'c', 'b', 'a', 'd'])\n",
    "print('길이: ', len(foo))\n",
    "\n",
    "foo.pop()\n",
    "print('pop한 다음:', repr(foo))\n",
    "print('빈도:', foo.frequency())"
   ]
  },
  {
   "cell_type": "markdown",
   "metadata": {},
   "source": [
    "- 파이썬 프로그래머들이라면 이런 함수들의 의미가 뭔지 알것이다. <br/> 추가로 필요한 기능을 제공하는 메서드를 얼마든지 추가할 수 있다고 합니다."
   ]
  },
  {
   "cell_type": "markdown",
   "metadata": {},
   "source": [
    "<hr/>"
   ]
  },
  {
   "cell_type": "markdown",
   "metadata": {},
   "source": [
    "~~list 상속만해도 많은 작업을 무난하게 시행 할것 같은데 굳이 더 복잡한걸 예시로 할려고 한다.~~ <br/><br/>\n",
    "Ex. list 처럼 느껴지면서 인덱싱이 가능한 객체를 제공 받고 싶은데\n",
    "<br/> 단, 리스트의 하위 클래스로 만들고 싶지 않다고 가정해보면 ~~왜 굳이~~\n",
    "<br/><br/> Ex1. 이진 트리 클래스를 시퀀스의 의미 구조를 사용해 다룰 수 있는 클래스를 만들고 싶다."
   ]
  },
  {
   "cell_type": "code",
   "execution_count": 6,
   "metadata": {},
   "outputs": [],
   "source": [
    "class BinaryNode:\n",
    "    def __init__(self, value, left=None, right=None):\n",
    "        self.value = value\n",
    "        self.left = left\n",
    "        self.right = right"
   ]
  },
  {
   "cell_type": "markdown",
   "metadata": {},
   "source": [
    "Q. 클래스가 시퀀스 처럼 동작하게 하라면 어떻게 해야 할까?\n",
    "<br/> A. 파이썬에서는 특별한 이름의 인스턴스 메서드를 사용해 컨테이너의 동작을 구현한다."
   ]
  },
  {
   "cell_type": "code",
   "execution_count": 7,
   "metadata": {},
   "outputs": [
    {
     "data": {
      "text/plain": [
       "1"
      ]
     },
     "execution_count": 7,
     "metadata": {},
     "output_type": "execute_result"
    }
   ],
   "source": [
    "bar = [1, 2, 3] # 리스트의 첫 원소를 구하는 예제다.\n",
    "bar[0]"
   ]
  },
  {
   "cell_type": "code",
   "execution_count": 8,
   "metadata": {},
   "outputs": [
    {
     "data": {
      "text/plain": [
       "1"
      ]
     },
     "execution_count": 8,
     "metadata": {},
     "output_type": "execute_result"
    }
   ],
   "source": [
    "bar.__getitem__(0) # 객체의 트리를 깊이 우선순회하는 __getitem__을 구현 하면 된다."
   ]
  },
  {
   "cell_type": "markdown",
   "metadata": {},
   "source": [
    "> 깊이우선순회 ?\n",
    "- 루트 노드에서 시작해서 다음 분기로 넘어가기 전에 해당 분기를 완벽하게 탐색하는 방법\n",
    "- 자기 자신 호출 순환 알고리즘"
   ]
  },
  {
   "cell_type": "code",
   "execution_count": 9,
   "metadata": {},
   "outputs": [],
   "source": [
    "class IndexableNode(BinaryNode):\n",
    "    def _traverse(self):\n",
    "        if self.left is not None:\n",
    "            yield from self.left._traverse()\n",
    "        yield self\n",
    "        if self.right is not None:\n",
    "            yield from self.right._traverse()\n",
    "\n",
    "    def __getitem__(self, index):\n",
    "        for i, item in enumerate(self._traverse()):\n",
    "            if i == index:\n",
    "                return item.value\n",
    "        raise IndexError(f'인덱스 범위 초과: {index}')\n"
   ]
  },
  {
   "cell_type": "markdown",
   "metadata": {},
   "source": [
    "이진 트리를 만든다."
   ]
  },
  {
   "cell_type": "code",
   "execution_count": 10,
   "metadata": {},
   "outputs": [],
   "source": [
    "tree = IndexableNode(\n",
    "    10,\n",
    "    left=IndexableNode(\n",
    "        5,\n",
    "        left=IndexableNode(2),\n",
    "        right=IndexableNode(\n",
    "            6,\n",
    "            right=IndexableNode(7))),\n",
    "    right=IndexableNode(\n",
    "        15,\n",
    "        left=IndexableNode(11)))"
   ]
  },
  {
   "cell_type": "markdown",
   "metadata": {},
   "source": [
    "- 트리는 시퀀스와 달리 비선형 자료구조이지만 탐색포함, list처럼 접근할 수도 있다."
   ]
  },
  {
   "cell_type": "code",
   "execution_count": 11,
   "metadata": {},
   "outputs": [
    {
     "name": "stdout",
     "output_type": "stream",
     "text": [
      "LRR: 7\n",
      "인덱스 0: 2\n",
      "인덱스 1: 5\n",
      "11이 트리 안에 있나? True\n",
      "17이 트리 안에 있나? False\n",
      "트리: [2, 5, 6, 7, 10, 11, 15]\n"
     ]
    }
   ],
   "source": [
    "print('LRR:', tree.left.right.right.value)\n",
    "print('인덱스 0:', tree[0])\n",
    "print('인덱스 1:', tree[1])\n",
    "print('11이 트리 안에 있나?', 11 in tree)\n",
    "print('17이 트리 안에 있나?', 17 in tree)\n",
    "print('트리:', list(tree))"
   ]
  },
  {
   "cell_type": "markdown",
   "metadata": {},
   "source": [
    "- 문제는 __ getitem__을 구현 하는 것만으로는 리스트 인스턴스에서 기대할 수 있는 모든 시퀀스 의미 구조를 제공할 없다."
   ]
  },
  {
   "cell_type": "markdown",
   "metadata": {},
   "source": [
    "<hr/>"
   ]
  },
  {
   "cell_type": "markdown",
   "metadata": {},
   "source": [
    "Ex2. 내장 함수 len을 쓸려면 커스텀 시퀀스 타입에 맞게 구현한 __len__ 이라는 또 다른 특별한 메서드가 필요."
   ]
  },
  {
   "cell_type": "code",
   "execution_count": 12,
   "metadata": {},
   "outputs": [
    {
     "ename": "TypeError",
     "evalue": "object of type 'IndexableNode' has no len()",
     "output_type": "error",
     "traceback": [
      "\u001b[1;31m---------------------------------------------------------------------------\u001b[0m",
      "\u001b[1;31mTypeError\u001b[0m                                 Traceback (most recent call last)",
      "\u001b[1;32m<ipython-input-12-5bb00ab2ebac>\u001b[0m in \u001b[0;36m<module>\u001b[1;34m\u001b[0m\n\u001b[1;32m----> 1\u001b[1;33m \u001b[0mlen\u001b[0m\u001b[1;33m(\u001b[0m\u001b[0mtree\u001b[0m\u001b[1;33m)\u001b[0m \u001b[1;31m# 메서드 또한 시퀀스에서 사용자가 시행할 수 있는 작업이다.\u001b[0m\u001b[1;33m\u001b[0m\u001b[1;33m\u001b[0m\u001b[0m\n\u001b[0m",
      "\u001b[1;31mTypeError\u001b[0m: object of type 'IndexableNode' has no len()"
     ]
    }
   ],
   "source": [
    "len(tree) # 메서드 또한 시퀀스에서 사용자가 시행할 수 있는 작업이다."
   ]
  },
  {
   "cell_type": "code",
   "execution_count": 13,
   "metadata": {},
   "outputs": [],
   "source": [
    "class SequenceNode(IndexableNode):\n",
    "    def __len__(self):\n",
    "        for count, _ in enumerate(self._traverse(), 1):\n",
    "            pass\n",
    "        return count"
   ]
  },
  {
   "cell_type": "code",
   "execution_count": 15,
   "metadata": {},
   "outputs": [],
   "source": [
    "tree = SequenceNode(\n",
    "    10,\n",
    "    left=SequenceNode(\n",
    "        5,\n",
    "        left=SequenceNode(2),\n",
    "        right=SequenceNode(\n",
    "            6,\n",
    "            right=SequenceNode(7))),\n",
    "    right=SequenceNode(\n",
    "        15,\n",
    "        left=SequenceNode(11))\n",
    ")"
   ]
  },
  {
   "cell_type": "code",
   "execution_count": 16,
   "metadata": {},
   "outputs": [
    {
     "name": "stdout",
     "output_type": "stream",
     "text": [
      "트리 길이: 7\n"
     ]
    }
   ],
   "source": [
    "print('트리 길이:', len(tree))"
   ]
  },
  {
   "cell_type": "markdown",
   "metadata": {},
   "source": [
    "- 특정 메소드를 정의해주면 시퀀스 의미 구조를 지원할 수 있다\n",
    "<br/> 하지만 역시나 문제가 있다 ... <br/> 시퀀스 의미 구조에서 사용자가 기대하는 메서드 인덱싱이 다가 아니기 때문이다. <br/> count, index, 등과 같은 메서드가 더 필요하다. <br/><br/> Q. 메서드들을 다 정의 해줘야 할까?\n",
    "<br/> A. 생각보다 커스텀 컨테이너 타입을 직접 정의하는 건 보기보다 어렵다."
   ]
  },
  {
   "cell_type": "markdown",
   "metadata": {},
   "source": [
    "<hr/>"
   ]
  },
  {
   "cell_type": "markdown",
   "metadata": {},
   "source": [
    "- 내장 collections.abc 모듈을 상속하자 <br/><br/> \n",
    "- 모듈안에는 시퀀스 구조에 요구되는 필수 메서드를 구현하지 않은 채 정의만하고 있다. <br/> 정의하는 클래스가 시퀀스 구조를 모두 지원하겠다는 선언을 하는 것이다.\n",
    "- 따라서 구현이 안되어 있으면 충족되지 않았다고, 실수했다고 알려줍니다."
   ]
  },
  {
   "cell_type": "code",
   "execution_count": 17,
   "metadata": {},
   "outputs": [
    {
     "ename": "TypeError",
     "evalue": "Can't instantiate abstract class BadType with abstract methods __getitem__, __len__",
     "output_type": "error",
     "traceback": [
      "\u001b[1;31m---------------------------------------------------------------------------\u001b[0m",
      "\u001b[1;31mTypeError\u001b[0m                                 Traceback (most recent call last)",
      "\u001b[1;32m<ipython-input-17-997f61651b50>\u001b[0m in \u001b[0;36m<module>\u001b[1;34m\u001b[0m\n\u001b[0;32m      4\u001b[0m     \u001b[1;32mpass\u001b[0m\u001b[1;33m\u001b[0m\u001b[1;33m\u001b[0m\u001b[0m\n\u001b[0;32m      5\u001b[0m \u001b[1;33m\u001b[0m\u001b[0m\n\u001b[1;32m----> 6\u001b[1;33m \u001b[0mfoo\u001b[0m \u001b[1;33m=\u001b[0m \u001b[0mBadType\u001b[0m\u001b[1;33m(\u001b[0m\u001b[1;33m)\u001b[0m\u001b[1;33m\u001b[0m\u001b[1;33m\u001b[0m\u001b[0m\n\u001b[0m",
      "\u001b[1;31mTypeError\u001b[0m: Can't instantiate abstract class BadType with abstract methods __getitem__, __len__"
     ]
    }
   ],
   "source": [
    "from collections.abc import Sequence\n",
    "\n",
    "class BadType(Sequence):\n",
    "    pass\n",
    "\n",
    "foo = BadType()"
   ]
  },
  {
   "cell_type": "code",
   "execution_count": 18,
   "metadata": {},
   "outputs": [
    {
     "name": "stdout",
     "output_type": "stream",
     "text": [
      "7의 인덱스: 3\n",
      "10의 개수: 1\n"
     ]
    }
   ],
   "source": [
    "class BetterNode(SequenceNode, Sequence):\n",
    "    pass\n",
    "\n",
    "tree = BetterNode(\n",
    "    10,\n",
    "    left=BetterNode(\n",
    "        5,\n",
    "        left=BetterNode(2),\n",
    "        right=BetterNode(\n",
    "            6,\n",
    "            right=BetterNode(7))),\n",
    "    right=BetterNode(\n",
    "        15,\n",
    "        left=BetterNode(11))\n",
    ")\n",
    "\n",
    "print('7의 인덱스:', tree.index(7))\n",
    "print('10의 개수:', tree.count(10))"
   ]
  },
  {
   "cell_type": "markdown",
   "metadata": {},
   "source": [
    "- 파이썬의 관례에 맞춰 구현해야 하는 특별한 메서드가 많은 더 복잡한 타입을 정의할 때 \n",
    "<br/> 이런 추상 기반 클래스를 사용하는 이점은 더욱 커진다.\n",
    "<br/> ~~Q1. 타입을 직접 정의하는 것은 생각보다 훨씬 더 어려운 일이라고 예시..~~\n",
    "<br/> Q2. 요구하는 메서드를 거저 얻는 다고 써있는데 병렬적으로 메서드를 추가하는게 아닐것 같아서 쉬운게 아닐것 같은데 어떻게 생각하시나요?"
   ]
  },
  {
   "cell_type": "markdown",
   "metadata": {},
   "source": [
    "### 기억하자\n",
    "- 간편하게 사용할 경우에는 파이썬 컨테이너 타입(리스트나 딕셔너리 등)을 직접 상속하자.\n",
    "- 커스텀 컨테이너를 제대로 구현하려면 수많은 메서드를 구현해야 한다는 점에 주의하자.\n",
    "- 커스텀 컨테이너 타입이 collection.abc에 정의된 인터페이스를 상속하면 <br/> 커스텀 컨테이너 타입이 정상적으로 작동하기 위해 필요한 인터페이스와 기능을 제대로 구현하도록 보장할 수 있다."
   ]
  },
  {
   "cell_type": "code",
   "execution_count": null,
   "metadata": {},
   "outputs": [],
   "source": []
  }
 ],
 "metadata": {
  "kernelspec": {
   "display_name": "Python 3",
   "language": "python",
   "name": "python3"
  },
  "language_info": {
   "codemirror_mode": {
    "name": "ipython",
    "version": 3
   },
   "file_extension": ".py",
   "mimetype": "text/x-python",
   "name": "python",
   "nbconvert_exporter": "python",
   "pygments_lexer": "ipython3",
   "version": "3.8.3"
  }
 },
 "nbformat": 4,
 "nbformat_minor": 4
}
