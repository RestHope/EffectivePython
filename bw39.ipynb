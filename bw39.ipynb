{
 "cells": [
  {
   "cell_type": "markdown",
   "metadata": {},
   "source": [
    "### BW39 - 객체를 제너릭하게 구성하려면 @classmethod를 통한 다형성을 활용하자"
   ]
  },
  {
   "cell_type": "markdown",
   "metadata": {},
   "source": [
    "- 파이썬에서는 객체뿐만 아니라 클래스도 다형성을 지원한다.\n",
    "<br/> → 계층을 이루는 여러 클래스가 자신에게 맞는 유일한 메서드 버전을 구현할 수 있다. (서로 다른 기능을 제공)"
   ]
  },
  {
   "cell_type": "markdown",
   "metadata": {},
   "source": [
    "Ex. 맵리듀스 구현중에 입력 데이터를 표현할 수 있는 공통 클래스가 필요하다고 하면\n",
    "> 맵리듀스 ?\n",
    "- 구글에서 정보 검색을 위한 데이터 가공을 목적으로 개발된 <br/> 분산 환경에서의 병렬 데이터 처리 기법이자 프로그래밍 모델이다.  "
   ]
  },
  {
   "cell_type": "code",
   "execution_count": 6,
   "metadata": {},
   "outputs": [],
   "source": [
    "class InputData:\n",
    "    def read(self):\n",
    "        raise NotImplementedError\n",
    "        \n",
    "class PathInputData(InputData): # 얼마든지 하위 클래스를 만들수 있다.\n",
    "    def __init__(self, path):\n",
    "        super().__init__()\n",
    "        self.path = path\n",
    "\n",
    "    def read(self):\n",
    "        with open(self.path) as f:\n",
    "            return f.read()"
   ]
  },
  {
   "cell_type": "markdown",
   "metadata": {},
   "source": [
    "- 각 하위 클래스에서 다시 정의해야만 하는 read 메서드가 들어 있는 공통 클래스를 구현해야 한다.\n",
    "<br/> Ex. 이 입력 데이터를 소비하는 공통 방법을 제공하는 맵 리듀스 작업자로 쓸 수 있는 추상 인터페이스를 정의하고 싶다."
   ]
  },
  {
   "cell_type": "code",
   "execution_count": 5,
   "metadata": {},
   "outputs": [],
   "source": [
    "class Worker:\n",
    "    def __init__(self, input_data):\n",
    "        self.input_data = input_data\n",
    "        self.result = None\n",
    "\n",
    "    def map(self):\n",
    "        raise NotImplementedError\n",
    "\n",
    "    def reduce(self, other):\n",
    "        raise NotImplementedError\n",
    "\n",
    "\n",
    "class LineCountWorker(Worker): # Work의 구체적인 하위 클래스다.\n",
    "    def map(self):\n",
    "        data = self.input_data.read()\n",
    "        self.result = data.count('\\n')\n",
    "\n",
    "    def reduce(self, other):\n",
    "        self.result += other.result"
   ]
  },
  {
   "cell_type": "markdown",
   "metadata": {},
   "source": [
    "- 잘 작동할 것 처럼 보이지만\n",
    "<br/> Q. 각 부분을 어떻게 연결해야 할까라는 의문이 생긴다.\n",
    "<br/> → 인터페이스와 추상화를 제공하는 멋진 클래스를 만들었지만 객체를 생성해 활용해야만 모든 클래스가 쓸모 있다.\n",
    "<br/> A. 도우미 함수를 활용해서 객체를 만들고 연결하자."
   ]
  },
  {
   "cell_type": "code",
   "execution_count": null,
   "metadata": {},
   "outputs": [],
   "source": [
    "import os\n",
    "\n",
    "def generate_inputs(data_dir):\n",
    "    for name in os.listdir(data_dir):\n",
    "        yield PathInputData(os.path.join(data_dir, name))"
   ]
  },
  {
   "cell_type": "markdown",
   "metadata": {},
   "source": [
    "- 방금 generate_inputs를 통해 만드는 InputData 인스턴스들을 사용하는 LineCountWorker 인스턴스를 만든다."
   ]
  },
  {
   "cell_type": "code",
   "execution_count": null,
   "metadata": {},
   "outputs": [],
   "source": [
    "def create_workers(input_list):\n",
    "    workers = []\n",
    "    for input_data in input_list:\n",
    "        workers.append(LineCountWorker(input_data))\n",
    "    return workers"
   ]
  },
  {
   "cell_type": "markdown",
   "metadata": {},
   "source": [
    "- 이 Worker 인스턴스의 map 단계를 여러 스레드에 공급해서 실행할 수 있다.\n",
    "<br/> 그 후 reduce를 반복적으로 호출해서 결과를 최종 값으로 합칠 수 있다."
   ]
  },
  {
   "cell_type": "code",
   "execution_count": 2,
   "metadata": {},
   "outputs": [
    {
     "name": "stdout",
     "output_type": "stream",
     "text": [
      "총 5333 줄이 있습니다.\n"
     ]
    }
   ],
   "source": [
    "from threading import Thread\n",
    "\n",
    "\n",
    "def execute(workers):\n",
    "    threads = [Thread(target=w.map) for w in workers]\n",
    "    for thread in threads: thread.start()\n",
    "    for thread in threads: thread.join()\n",
    "\n",
    "    first, *rest = workers\n",
    "    for worker in rest:\n",
    "        first.reduce(worker)\n",
    "    return first.result\n",
    "\n",
    "def mapreduce(data_dir): # 함수가 전혀 제너릭 하지 않다는 것이다.\n",
    "    inputs = generate_inputs(data_dir)\n",
    "    workers = create_workers(inputs)\n",
    "    return execute(workers)\n",
    "\n",
    "import os\n",
    "import random\n",
    "\n",
    "def write_test_files(tmpdir):\n",
    "    os.makedirs(tmpdir)\n",
    "    for i in range(100):\n",
    "        with open(os.path.join(tmpdir, str(i)), 'w') as f:\n",
    "            f.write('\\n' * random.randint(0, 100))\n",
    "\n",
    "tmpdir = 'test_inputs'\n",
    "write_test_files(tmpdir)\n",
    "\n",
    "result = mapreduce(tmpdir)\n",
    "print(f'총 {result} 줄이 있습니다.')\n"
   ]
  },
  {
   "cell_type": "markdown",
   "metadata": {},
   "source": [
    "<hr/>"
   ]
  },
  {
   "cell_type": "markdown",
   "metadata": {},
   "source": [
    "- 문제가 있다. 함수가 전혀 제너릭을 사용하지 않는다.\n",
    "\n",
    ">제너릭 ?\n",
    "- 객체 내부에서 사용할 데이터 타입을 외부에서 정하는 기법이다.\n",
    "- 제네릭은 객체의 타입을 고정하지 않고, 다양한 타입의 객체를 가지게 해준다.\n",
    "\n",
    "- 다른 InputData나 Worker 하위 클래스를 사용하고 싶다면 \n",
    "<br/> 각 하위 클래스에 맞게 generate_inputs, create_workers, mapreduce를 재작성해야 한다.\n",
    "\n",
    "<br/> A. 가장 좋은 방법은 클래스 메서드 다형성을 사용하는 것이다.\n",
    "- InputData.read에서 사용했던 인스턴스 메서드의 다형성과 똑같은데\n",
    "<br/> 클래스로 만들어낸 개별 객체에 적용되지 않고 클래스 전체에 적용된다는 점만 다르다.\n",
    "- 특히 cls를 사용하면 메서드 안에서 현재 클래스의 인스턴스를 만들 수도 있다."
   ]
  },
  {
   "cell_type": "code",
   "execution_count": null,
   "metadata": {},
   "outputs": [],
   "source": [
    "class GenericInputData:\n",
    "    def read(self):\n",
    "        raise NotImplementedError\n",
    "\n",
    "    @classmethod\n",
    "    def generate_inputs(cls, config): # 입력 파일 디렉토리 찾기\n",
    "        raise NotImplementedError"
   ]
  },
  {
   "cell_type": "code",
   "execution_count": 8,
   "metadata": {},
   "outputs": [],
   "source": [
    "class PathInputData(GenericInputData): # cls()는 PathInputData\n",
    "    def __init__(self, path):\n",
    "        super().__init__()\n",
    "        self.path = path\n",
    "\n",
    "    def read(self):\n",
    "        with open(self.path) as f:\n",
    "            return f.read()\n",
    "\n",
    "    @classmethod\n",
    "    def generate_inputs(cls, config):\n",
    "        data_dir = config['data_dir']\n",
    "        for name in os.listdir(data_dir):\n",
    "            yield cls(os.path.join(data_dir, name))"
   ]
  },
  {
   "cell_type": "code",
   "execution_count": null,
   "metadata": {},
   "outputs": [],
   "source": [
    "class GenericWorker:\n",
    "    def __init__(self, input_data):\n",
    "        self.input_data = input_data\n",
    "        self.result = None\n",
    "\n",
    "    def map(self):\n",
    "        raise NotImplementedError\n",
    "\n",
    "    def reduce(self, other):\n",
    "        raise NotImplementedError\n",
    "\n",
    "    @classmethod\n",
    "    def create_workers(cls, input_class, config):\n",
    "        workers = []\n",
    "        for input_data in input_class.generate_inputs(config):\n",
    "            workers.append(cls(input_data))\n",
    "        return workers"
   ]
  },
  {
   "cell_type": "markdown",
   "metadata": {},
   "source": [
    "- input_class.generate_inputs 호출이 바로 여기서 보여주려는 클래스 다형성의 예이다.\n",
    "<br/> → create_workers가 __ init__ 메서드를 직접 호출하지 않고 cls()를 호출함으로써\n",
    "<br/> 다른 방법으로 GenericWorker 객체를 만들 수 있다는 것도 알 수 있다."
   ]
  },
  {
   "cell_type": "code",
   "execution_count": 3,
   "metadata": {},
   "outputs": [
    {
     "name": "stdout",
     "output_type": "stream",
     "text": [
      "총 5333 줄이 있습니다.\n"
     ]
    }
   ],
   "source": [
    "class LineCountWorker(GenericWorker):\n",
    "    def map(self):\n",
    "        data = self.input_data.read()\n",
    "        self.result = data.count('\\n')\n",
    "\n",
    "    def reduce(self, other):\n",
    "        self.result += other.result\n",
    "\n",
    "def mapreduce(worker_class, input_class, config):\n",
    "    workers = worker_class.create_workers(input_class, config)\n",
    "    return execute(workers)\n",
    "\n",
    "config = {'data_dir': tmpdir}\n",
    "result = mapreduce(LineCountWorker, PathInputData, config)\n",
    "print(f'총 {result} 줄이 있습니다.')"
   ]
  },
  {
   "cell_type": "markdown",
   "metadata": {},
   "source": [
    "- 구제적인 GenericWorker 하위 클래스에 미치는 영향은 부모 클래스를 바꾸는 것\n",
    "<br/> mapreducer 함수가  create_workers를 호출하게 변경해서 완전한 제너릭 함수로 만들 수 있다.\n",
    "<br/><br/> 앞에 있었던 예제와 똑같은 결과지만 제너릭하게 작동해야하므로\n",
    "<br/> mapreduce 함수에 더 많은 파라미터를 넘겨야 한다.\n",
    "<br/> → 결합하는 코드를 변경하지 않아도 GenericInputData와 GenericWorker의 하위 클래스를 내가 원한대로 작성"
   ]
  },
  {
   "cell_type": "markdown",
   "metadata": {},
   "source": [
    "### 기억하자\n",
    "- 파이썬의 클래스에는 생성자가 __ init__ 메서드 뿐이다.\n",
    "- @classmethod를 사용하면 클래스에 다른 생성자를 정의할 수 있다.\n",
    "- 다형성을 활용하면 여러 구체적인 하위 클래스의 객체를 만들고 연결하는 제너릭한 방법을 제공할 수 있다."
   ]
  },
  {
   "cell_type": "code",
   "execution_count": null,
   "metadata": {},
   "outputs": [],
   "source": []
  }
 ],
 "metadata": {
  "kernelspec": {
   "display_name": "Python 3",
   "language": "python",
   "name": "python3"
  },
  "language_info": {
   "codemirror_mode": {
    "name": "ipython",
    "version": 3
   },
   "file_extension": ".py",
   "mimetype": "text/x-python",
   "name": "python",
   "nbconvert_exporter": "python",
   "pygments_lexer": "ipython3",
   "version": "3.8.3"
  }
 },
 "nbformat": 4,
 "nbformat_minor": 4
}
