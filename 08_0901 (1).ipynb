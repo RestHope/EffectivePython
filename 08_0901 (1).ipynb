{
 "cells": [
  {
   "cell_type": "code",
   "execution_count": 31,
   "id": "f7977efd",
   "metadata": {},
   "outputs": [
    {
     "name": "stdout",
     "output_type": "stream",
     "text": [
      "total 104\r\n",
      "drwxrwxrwx 2 root root  4096 Dec 21  2021 .\r\n",
      "drwxrwxrwx 1 root root  4096 Sep  1 01:12 ..\r\n",
      "-rwxrwxrwx 1 root root 77956 Dec 21  2021 covid19_italy_region.csv\r\n",
      "-rwxrwxrwx 1 root root 12003 Dec 21  2021 newyork.jpg\r\n"
     ]
    }
   ],
   "source": [
    "!ls -al ~/data"
   ]
  },
  {
   "cell_type": "code",
   "execution_count": 11,
   "id": "d1b03b94",
   "metadata": {},
   "outputs": [],
   "source": [
    "!mkdir /aiffel/aiffel/fund/08/data"
   ]
  },
  {
   "cell_type": "code",
   "execution_count": 33,
   "id": "b2029657",
   "metadata": {},
   "outputs": [
    {
     "name": "stdout",
     "output_type": "stream",
     "text": [
      "mv: cannot remove '/aiffel/data/covid19_italy_region.csv': Read-only file system\r\n",
      "mv: cannot remove '/aiffel/data/newyork.jpg': Read-only file system\r\n"
     ]
    }
   ],
   "source": [
    "!mv ~/data/* /aiffel/aiffel/fund/08/data/"
   ]
  },
  {
   "cell_type": "code",
   "execution_count": 34,
   "id": "a1e16890",
   "metadata": {},
   "outputs": [
    {
     "name": "stdout",
     "output_type": "stream",
     "text": [
      "total 104\r\n",
      "drwxr-xr-x 3 root root  4096 Sep  1 06:47 .\r\n",
      "drwxr-xr-x 4 root root  4096 Sep  1 06:44 ..\r\n",
      "-rwxrwxrwx 1 root root 77956 Dec 21  2021 covid19_italy_region.csv\r\n",
      "drwxr-xr-x 2 root root  4096 Sep  1 06:36 .ipynb_checkpoints\r\n",
      "-rwxrwxrwx 1 root root 12003 Dec 21  2021 newyork.jpg\r\n"
     ]
    }
   ],
   "source": [
    "!ls -al /aiffel/aiffel/fund/08/data/"
   ]
  },
  {
   "cell_type": "code",
   "execution_count": null,
   "id": "c3e62206",
   "metadata": {},
   "outputs": [],
   "source": []
  }
 ],
 "metadata": {
  "kernelspec": {
   "display_name": "Python 3 (ipykernel)",
   "language": "python",
   "name": "python3"
  },
  "language_info": {
   "codemirror_mode": {
    "name": "ipython",
    "version": 3
   },
   "file_extension": ".py",
   "mimetype": "text/x-python",
   "name": "python",
   "nbconvert_exporter": "python",
   "pygments_lexer": "ipython3",
   "version": "3.9.7"
  }
 },
 "nbformat": 4,
 "nbformat_minor": 5
}
