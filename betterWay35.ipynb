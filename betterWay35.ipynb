{
 "cells": [
  {
   "cell_type": "markdown",
   "metadata": {},
   "source": [
    "### BETTER WAY 35 <br/> 제너레이터 안에서 throw로 상태를 변화시키지 말자"
   ]
  },
  {
   "cell_type": "markdown",
   "metadata": {},
   "source": [
    "- 제너레이터 고급기능으로 throw 메서드가 있습니다."
   ]
  },
  {
   "cell_type": "code",
   "execution_count": 9,
   "metadata": {},
   "outputs": [],
   "source": [
    "class MyError(Exception):\n",
    "    pass"
   ]
  },
  {
   "cell_type": "code",
   "execution_count": 10,
   "metadata": {},
   "outputs": [],
   "source": [
    "def my_generator():\n",
    "    yield 1\n",
    "    yield 2\n",
    "    yield 3"
   ]
  },
  {
   "cell_type": "code",
   "execution_count": 11,
   "metadata": {},
   "outputs": [
    {
     "name": "stdout",
     "output_type": "stream",
     "text": [
      "1\n",
      "2\n"
     ]
    },
    {
     "ename": "MyError",
     "evalue": "test error",
     "output_type": "error",
     "traceback": [
      "\u001b[1;31m---------------------------------------------------------------------------\u001b[0m",
      "\u001b[1;31mMyError\u001b[0m                                   Traceback (most recent call last)",
      "\u001b[1;32m<ipython-input-11-59ca96e3c0a3>\u001b[0m in \u001b[0;36m<module>\u001b[1;34m\u001b[0m\n\u001b[0;32m      2\u001b[0m \u001b[0mprint\u001b[0m\u001b[1;33m(\u001b[0m\u001b[0mnext\u001b[0m\u001b[1;33m(\u001b[0m\u001b[0mit\u001b[0m\u001b[1;33m)\u001b[0m\u001b[1;33m)\u001b[0m  \u001b[1;31m# 1을 내놓음\u001b[0m\u001b[1;33m\u001b[0m\u001b[1;33m\u001b[0m\u001b[0m\n\u001b[0;32m      3\u001b[0m \u001b[0mprint\u001b[0m\u001b[1;33m(\u001b[0m\u001b[0mnext\u001b[0m\u001b[1;33m(\u001b[0m\u001b[0mit\u001b[0m\u001b[1;33m)\u001b[0m\u001b[1;33m)\u001b[0m  \u001b[1;31m# 2를 내놓음\u001b[0m\u001b[1;33m\u001b[0m\u001b[1;33m\u001b[0m\u001b[0m\n\u001b[1;32m----> 4\u001b[1;33m \u001b[0mprint\u001b[0m\u001b[1;33m(\u001b[0m\u001b[0mit\u001b[0m\u001b[1;33m.\u001b[0m\u001b[0mthrow\u001b[0m\u001b[1;33m(\u001b[0m\u001b[0mMyError\u001b[0m\u001b[1;33m(\u001b[0m\u001b[1;34m'test error'\u001b[0m\u001b[1;33m)\u001b[0m\u001b[1;33m)\u001b[0m\u001b[1;33m)\u001b[0m\u001b[1;33m\u001b[0m\u001b[1;33m\u001b[0m\u001b[0m\n\u001b[0m",
      "\u001b[1;32m<ipython-input-10-dbcd45bc83be>\u001b[0m in \u001b[0;36mmy_generator\u001b[1;34m()\u001b[0m\n\u001b[0;32m      1\u001b[0m \u001b[1;32mdef\u001b[0m \u001b[0mmy_generator\u001b[0m\u001b[1;33m(\u001b[0m\u001b[1;33m)\u001b[0m\u001b[1;33m:\u001b[0m\u001b[1;33m\u001b[0m\u001b[1;33m\u001b[0m\u001b[0m\n\u001b[0;32m      2\u001b[0m     \u001b[1;32myield\u001b[0m \u001b[1;36m1\u001b[0m\u001b[1;33m\u001b[0m\u001b[1;33m\u001b[0m\u001b[0m\n\u001b[1;32m----> 3\u001b[1;33m     \u001b[1;32myield\u001b[0m \u001b[1;36m2\u001b[0m\u001b[1;33m\u001b[0m\u001b[1;33m\u001b[0m\u001b[0m\n\u001b[0m\u001b[0;32m      4\u001b[0m     \u001b[1;32myield\u001b[0m \u001b[1;36m3\u001b[0m\u001b[1;33m\u001b[0m\u001b[1;33m\u001b[0m\u001b[0m\n",
      "\u001b[1;31mMyError\u001b[0m: test error"
     ]
    }
   ],
   "source": [
    "it = my_generator()\n",
    "print(next(it))  # 1을 내놓음\n",
    "print(next(it))  # 2를 내놓음\n",
    "print(it.throw(MyError('test error')))"
   ]
  },
  {
   "cell_type": "markdown",
   "metadata": {},
   "source": [
    "- yield까지 코드를 실행할 때 1과 2를 내놓은 후로 throw메소드를 통해 <br/> test error를 발생시키고 1, 2까지 출력되고 error가 뜬다."
   ]
  },
  {
   "cell_type": "code",
   "execution_count": 12,
   "metadata": {},
   "outputs": [
    {
     "name": "stdout",
     "output_type": "stream",
     "text": [
      "1\n",
      "2\n",
      "MyError 발생!\n",
      "4\n"
     ]
    }
   ],
   "source": [
    "def my_generator():\n",
    "    yield 1\n",
    "    try:\n",
    "        yield 2\n",
    "    except MyError:\n",
    "        print('MyError 발생!')\n",
    "    else:\n",
    "        yield 3\n",
    "    yield 4\n",
    "\n",
    "it = my_generator()\n",
    "print(next(it))  # 1을 내놓음\n",
    "print(next(it))  # 2를 내놓음\n",
    "print(it.throw(MyError('test error')))"
   ]
  },
  {
   "cell_type": "markdown",
   "metadata": {},
   "source": [
    "Q. 코드가 중단되지 않고 계속 진행되게 하는 방법\n",
    "<br/> A. try except 구문을 사용\n",
    "<br/> \n",
    "- 3이 나와야 할 자리에 에러가 뜨는 것을 보아 코루틴에서 \n",
    "<br/> Error가 제너레이터로 잘 주입되었다는 것을 확인했고 에러가 없으면 3이 리턴되겠죠?\n",
    "- 제너레이터는 try/except 복합문을 사용해 마지막으로 실행된 yield 문을 둘러쌈으로써 이 예외를 잡아낼 수 있습니다. <br/> → 제너레이터와 제너레이터를 호출하는 쪽 사이에 양방향 통신 수단을 제공한다."
   ]
  },
  {
   "cell_type": "markdown",
   "metadata": {},
   "source": [
    "---"
   ]
  },
  {
   "cell_type": "markdown",
   "metadata": {},
   "source": [
    "Ex. 간헐적으로 재설정할 수 있는 타이머가 필요하다고 하면"
   ]
  },
  {
   "cell_type": "code",
   "execution_count": 1,
   "metadata": {},
   "outputs": [],
   "source": [
    "class Reset(Exception):\n",
    "    pass\n",
    "\n",
    "def timer(period):\n",
    "    current = period\n",
    "    while current:\n",
    "        current -= 1\n",
    "        try:\n",
    "            yield current\n",
    "        except Reset:\n",
    "            current = period"
   ]
  },
  {
   "cell_type": "markdown",
   "metadata": {},
   "source": [
    "- yield 식에서 Reset 예외가 발생할 때마다 카운터가 period로 재설정된다.\n",
    "<br/> 매초 폴링되는 외부 입력과 재설정 되는 이벤트를 연결가능하다."
   ]
  },
  {
   "cell_type": "code",
   "execution_count": 4,
   "metadata": {},
   "outputs": [],
   "source": [
    "RESETS = [\n",
    "    False, False, False, True, False, True, False,\n",
    "    False, False, False, False, False, False, False]\n",
    "\n",
    "def check_for_reset():\n",
    "    # 외부 이벤트를 폴링한다\n",
    "    return RESETS.pop(0)\n",
    "\n",
    "def announce(remaining):\n",
    "    print(f'{remaining} 틱 남음')\n",
    "\n",
    "def run():\n",
    "    it = timer(4)\n",
    "    while True:\n",
    "        try:\n",
    "            if check_for_reset():\n",
    "                current = it.throw(Reset())\n",
    "            else:\n",
    "                current = next(it)\n",
    "        except StopIteration:\n",
    "            break\n",
    "        else:\n",
    "            announce(current)"
   ]
  },
  {
   "cell_type": "markdown",
   "metadata": {},
   "source": [
    "- timer 제너레이터를 구동시키는 run함수를 정의할 수 있다.\n",
    "<br/> → run 함수는 : coroutine 대신 함수를 통해 예외를 주입하는 코드 주입"
   ]
  },
  {
   "cell_type": "code",
   "execution_count": 12,
   "metadata": {},
   "outputs": [
    {
     "name": "stdout",
     "output_type": "stream",
     "text": [
      "3 틱 남음\n",
      "2 틱 남음\n",
      "1 틱 남음\n",
      "3 틱 남음\n",
      "2 틱 남음\n",
      "3 틱 남음\n",
      "2 틱 남음\n",
      "1 틱 남음\n",
      "0 틱 남음\n"
     ]
    }
   ],
   "source": [
    "run()"
   ]
  },
  {
   "cell_type": "markdown",
   "metadata": {},
   "source": [
    "- RESET에서 True일때마다 period로 재설정되는 것을 확인 했고\n",
    "<br/> Q. 내포 단계마다 StopIteration 예외, throw, next나 announce 호출 때문에 내포 관계가 복잡하다아\n",
    "<br/><br/> A. Run 함수를 간단하게 표현하기 위해 timer함수를 컨테이너 객체로 표현하여 제너레이터를 재정의해야 한다. <br/> → 저자가 말하기를 함수를 복잡하게 코딩하지말고 class 지정해서 원하는 속성을 구현해라고 말하고 있는것 같습니다."
   ]
  },
  {
   "cell_type": "code",
   "execution_count": 5,
   "metadata": {},
   "outputs": [],
   "source": [
    "class Timer:\n",
    "    def __init__(self, period):\n",
    "        self.current = period\n",
    "        self.period = period\n",
    "\n",
    "    def reset(self):\n",
    "        self.current = self.period\n",
    "\n",
    "    def __iter__(self):\n",
    "        while self.current:\n",
    "            self.current -= 1\n",
    "            yield self.current"
   ]
  },
  {
   "cell_type": "code",
   "execution_count": 6,
   "metadata": {},
   "outputs": [
    {
     "name": "stdout",
     "output_type": "stream",
     "text": [
      "3 틱 남음\n",
      "2 틱 남음\n",
      "1 틱 남음\n",
      "0 틱 남음\n",
      "3 틱 남음\n",
      "2 틱 남음\n",
      "3 틱 남음\n",
      "2 틱 남음\n",
      "1 틱 남음\n",
      "0 틱 남음\n"
     ]
    }
   ],
   "source": [
    "def run():\n",
    "    timer = Timer(4)\n",
    "    for current in timer:\n",
    "        if check_for_reset():\n",
    "            timer.reset()\n",
    "        announce(current)\n",
    "\n",
    "run()"
   ]
  },
  {
   "cell_type": "markdown",
   "metadata": {},
   "source": [
    "- Timer 함수를 컨테이너 객체로 표현하면 run 함수를 for문을 통해 표현하니까 편하다아.\n",
    "- 최종적으로는 throw 함수를 이용하지말고 이터러블 클래스를 지정해주는게 좋다."
   ]
  },
  {
   "cell_type": "markdown",
   "metadata": {},
   "source": [
    "### 기억하자\n",
    "- throw 메서드를 사용하면 제너레이터가 마지막으로 실행한 yield 식의 위치에서 예외를 다시 발생시킬 수 있다.\n",
    "- throw를 사용하면 가독성이 나빠진다. 예외를 잡아내고 다시 발생시키는 데 준비 코드가 필요하며 내포 단계가 깊어지기 때문이다.\n",
    "- 더 나은 방법은 iter 메서드를 구현하는 클래스를 사용하기"
   ]
  },
  {
   "cell_type": "code",
   "execution_count": null,
   "metadata": {},
   "outputs": [],
   "source": []
  }
 ],
 "metadata": {
  "kernelspec": {
   "display_name": "Python 3",
   "language": "python",
   "name": "python3"
  },
  "language_info": {
   "codemirror_mode": {
    "name": "ipython",
    "version": 3
   },
   "file_extension": ".py",
   "mimetype": "text/x-python",
   "name": "python",
   "nbconvert_exporter": "python",
   "pygments_lexer": "ipython3",
   "version": "3.8.3"
  }
 },
 "nbformat": 4,
 "nbformat_minor": 4
}
